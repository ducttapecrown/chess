{
 "cells": [
  {
   "cell_type": "code",
   "execution_count": 34,
   "metadata": {
    "scrolled": true
   },
   "outputs": [
    {
     "data": {
      "text/plain": [
       "0"
      ]
     },
     "execution_count": 34,
     "metadata": {},
     "output_type": "execute_result"
    }
   ],
   "source": [
    "import operator\n",
    "import pandas\n",
    "from subprocess import call\n",
    "\n",
    "K = 32\n",
    "elos = {}\n",
    "record = {}\n",
    "\n",
    "ledger = [line.strip() for line in open(\"chess.txt\").read().split(\",\")]\n",
    "for line in ledger:\n",
    "    p1, outcome, p2 = line.split(\" \")\n",
    "    if not p1 in elos:\n",
    "        elos[p1] = [1500,0,0,0]\n",
    "    if not p2 in elos:\n",
    "        elos[p2] = [1500,0,0,0]\n",
    "    pre_1 = elos[p1][0]\n",
    "    pre_2 = elos[p2][0]\n",
    "    expected_1 = 1./(10.**(-(pre_1-pre_2)/400.)+1)\n",
    "    expected_2 = 1./(10.**(-(pre_2-pre_1)/400.)+1)\n",
    "    new_1 = 0\n",
    "    new_2 = 0\n",
    "        \n",
    "    if outcome == \"beat\":\n",
    "        new_1 = pre_1 + K*(1 - expected_1)\n",
    "        new_2 = pre_2 + K*(0 - expected_2)\n",
    "        elos[p1][1] += 1\n",
    "        elos[p2][2] += 1\n",
    "        \n",
    "    if outcome == \"tied\":\n",
    "        new_1 = pre_1 + K*(.5 - expected_1)\n",
    "        new_2 = pre_2 + K*(.5 - expected_2)\n",
    "        elos[p1][3] += 1\n",
    "        elos[p2][3] += 1\n",
    "        \n",
    "    elos[p1][0] = new_1\n",
    "    elos[p2][0] = new_2\n",
    "        \n",
    "pandas.options.display.precision = 0\n",
    "df = pandas.DataFrame.from_dict(elos, 'index').sort_values(by=0, ascending=False)\n",
    "df.columns = ['Elo','W','L','T']\n",
    "df\n",
    "head = \"\"\"<!DOCTYPE HTML><html><head><link rel='stylesheet' type='text/css' href='style.css'></head><body style='margin: 50px'>\"\"\"\n",
    "tail = \"</body></html>\"\n",
    "\n",
    "output = open(\"chess.html\", 'w')\n",
    "output.writelines([head, df.to_html(border=1), tail])\n",
    "output.close()\n",
    "\n",
    "call(['scp', 'chess.txt', 'polylog1:public_html/chess.txt'])\n",
    "call(['scp', 'chess.html', 'polylog1:public_html/chess.html'])"
   ]
  }
 ],
 "metadata": {
  "kernelspec": {
   "display_name": "Python 3",
   "language": "python",
   "name": "python3"
  },
  "language_info": {
   "codemirror_mode": {
    "name": "ipython",
    "version": 3
   },
   "file_extension": ".py",
   "mimetype": "text/x-python",
   "name": "python",
   "nbconvert_exporter": "python",
   "pygments_lexer": "ipython3",
   "version": "3.5.1"
  }
 },
 "nbformat": 4,
 "nbformat_minor": 2
}
